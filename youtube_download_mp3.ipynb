{
 "cells": [
  {
   "cell_type": "code",
   "execution_count": 11,
   "metadata": {},
   "outputs": [
    {
     "name": "stdout",
     "output_type": "stream",
     "text": [
      "e\n",
      "MoviePy - Writing audio in ./mp3/Czereśnie Kukułeczka.mp3\n"
     ]
    },
    {
     "name": "stderr",
     "output_type": "stream",
     "text": [
      "                                                                     "
     ]
    },
    {
     "name": "stdout",
     "output_type": "stream",
     "text": [
      "MoviePy - Done.\n",
      "Download successful! MP3 saved at: ./mp3/Czereśnie Kukułeczka.mp3\n"
     ]
    },
    {
     "name": "stderr",
     "output_type": "stream",
     "text": [
      "\r"
     ]
    }
   ],
   "source": [
    "from pytube import YouTube\n",
    "from moviepy.editor import *\n",
    "\n",
    "# Function to download YouTube video and convert to MP3\n",
    "def download_youtube_as_mp3(youtube_url, output_path, mp3_filename):\n",
    "    try:\n",
    "        # Download YouTube video\n",
    "        yt = YouTube(youtube_url)\n",
    "        video = yt.streams.filter(only_audio=True).first()\n",
    "        video.download(output_path=output_path, filename=\"temp.mp4\")\n",
    "        print(\"e\")\n",
    "\n",
    "        # Convert to MP3\n",
    "        video_path = output_path + \"temp.mp4\"\n",
    "        audio_path = output_path + mp3_filename\n",
    "        video_clip = AudioFileClip(video_path)\n",
    "        video_clip.write_audiofile(audio_path)\n",
    "\n",
    "        # Remove temporary video file\n",
    "        os.remove(video_path)\n",
    "        \n",
    "        print(\"Download successful! MP3 saved at:\", audio_path)\n",
    "    except Exception as e:\n",
    "        print(\"Error:\", str(e))\n",
    "\n",
    "# Example usage\n",
    "youtube_url = \"https://www.youtube.com/watch?v=xhK1StN1UwE\"  # Example URL\n",
    "mp3_filename = 'Czereśnie Kukułeczka.mp3'\n",
    "output_path = \"./mp3/\"  # Output directory\n",
    "download_youtube_as_mp3(youtube_url, output_path, mp3_filename)\n"
   ]
  },
  {
   "cell_type": "code",
   "execution_count": null,
   "metadata": {},
   "outputs": [],
   "source": []
  }
 ],
 "metadata": {
  "kernelspec": {
   "display_name": "youtube-ALxa1qMs-py3.12",
   "language": "python",
   "name": "python3"
  },
  "language_info": {
   "codemirror_mode": {
    "name": "ipython",
    "version": 3
   },
   "file_extension": ".py",
   "mimetype": "text/x-python",
   "name": "python",
   "nbconvert_exporter": "python",
   "pygments_lexer": "ipython3",
   "version": "3.12.3"
  }
 },
 "nbformat": 4,
 "nbformat_minor": 2
}
